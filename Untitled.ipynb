{
 "cells": [
  {
   "cell_type": "code",
   "execution_count": null,
   "metadata": {},
   "outputs": [],
   "source": [
    "\n",
    "#sg.popup('first name', first, 'last name', last, 'Address', add , 'DOB', dob , 'mobile number', num,margins=(200,200))\n",
    "\n"
   ]
  },
  {
   "cell_type": "code",
   "execution_count": 3,
   "metadata": {},
   "outputs": [],
   "source": [
    "import mysql.connector\n",
    "a=mysql.connector.connect(host=\"localhost\", user=\"root\",password=\"a1234\")\n",
    "b=a.cursor()\n",
    "b.execute(\"use practicle\")\n",
    "b.execute(\"create table gui(id int,first char(20),last char(20),address char(20),dob date,number char(20),email varchar(50),gender varchar(20),state varchar(20))\")\n",
    "\n"
   ]
  },
  {
   "cell_type": "code",
   "execution_count": 9,
   "metadata": {},
   "outputs": [
    {
     "data": {
      "text/plain": [
       "'OK'"
      ]
     },
     "execution_count": 9,
     "metadata": {},
     "output_type": "execute_result"
    }
   ],
   "source": [
    "import PySimpleGUI as sg      \n",
    "\n",
    "layout = [[sg.Text('My one-shot window.')],      \n",
    "                 [sg.InputText()],      \n",
    "                 [sg.Submit(), sg.Cancel()]]      \n",
    "\n",
    "window = sg.Window('Window Title', layout)    \n",
    "\n",
    "event, values = window.read()    \n",
    "window.close()\n",
    "\n",
    "text_input = values[0]    \n",
    "sg.popup('You entered', text_input)\n",
    "\n",
    "  "
   ]
  }
 ],
 "metadata": {
  "kernelspec": {
   "display_name": "Python 3",
   "language": "python",
   "name": "python3"
  },
  "language_info": {
   "codemirror_mode": {
    "name": "ipython",
    "version": 3
   },
   "file_extension": ".py",
   "mimetype": "text/x-python",
   "name": "python",
   "nbconvert_exporter": "python",
   "pygments_lexer": "ipython3",
   "version": "3.7.6"
  }
 },
 "nbformat": 4,
 "nbformat_minor": 4
}
