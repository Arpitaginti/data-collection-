{
 "cells": [
  {
   "cell_type": "code",
   "execution_count": 6,
   "metadata": {},
   "outputs": [
    {
     "data": {
      "application/vnd.jupyter.widget-view+json": {
       "model_id": "6cb4cedbe06e443698d7d3bdb9d9421f",
       "version_major": 2,
       "version_minor": 0
      },
      "text/plain": [
       "HBox(children=(FloatProgress(value=0.0, max=10000.0), HTML(value='')))"
      ]
     },
     "metadata": {},
     "output_type": "display_data"
    },
    {
     "name": "stdout",
     "output_type": "stream",
     "text": [
      " \n"
     ]
    },
    {
     "ename": "NameError",
     "evalue": "name 'layout1' is not defined",
     "output_type": "error",
     "traceback": [
      "\u001b[1;31m---------------------------------------------------------------------------\u001b[0m",
      "\u001b[1;31mNameError\u001b[0m                                 Traceback (most recent call last)",
      "\u001b[1;32m<ipython-input-6-c97f5c9f5000>\u001b[0m in \u001b[0;36m<module>\u001b[1;34m\u001b[0m\n\u001b[0;32m     31\u001b[0m         [sg.Exit()]]\n\u001b[0;32m     32\u001b[0m \u001b[1;33m\u001b[0m\u001b[0m\n\u001b[1;32m---> 33\u001b[1;33m     \u001b[0mwindow2\u001b[0m \u001b[1;33m=\u001b[0m \u001b[0msg\u001b[0m\u001b[1;33m.\u001b[0m\u001b[0mWindow\u001b[0m\u001b[1;33m(\u001b[0m\u001b[1;34m'Calendar'\u001b[0m\u001b[1;33m,\u001b[0m \u001b[0mlayout1\u001b[0m\u001b[1;33m)\u001b[0m\u001b[1;33m\u001b[0m\u001b[1;33m\u001b[0m\u001b[0m\n\u001b[0m\u001b[0;32m     34\u001b[0m \u001b[1;33m\u001b[0m\u001b[0m\n\u001b[0;32m     35\u001b[0m     \u001b[1;32mwhile\u001b[0m \u001b[1;32mTrue\u001b[0m\u001b[1;33m:\u001b[0m             \u001b[1;31m# Event Loop\u001b[0m\u001b[1;33m\u001b[0m\u001b[1;33m\u001b[0m\u001b[0m\n",
      "\u001b[1;31mNameError\u001b[0m: name 'layout1' is not defined"
     ]
    }
   ],
   "source": [
    "import PySimpleGUI as sg  #importing pysimple gui with its object\n",
    "#importing mysql connector\n",
    "import mysql.connector\n",
    "a=mysql.connector.connect(host=\"localhost\", user=\"root\",password=\"a1234\")\n",
    "b=a.cursor()\n",
    "b.execute(\"use practicle\")\n",
    "#set theme for window\n",
    "#sg.theme(\"lightBlue5\")\n",
    "#describe the strucure of window help of layout\n",
    "layout=[\n",
    "    [sg.Text(\"Do you want to login this page?\")],\n",
    "    [sg.Button(\"Yes\"),sg.Button(\"No\")]\n",
    "]\n",
    "#giving window1 a title and layout into one variable\n",
    "window1=sg.Window(\"user\",layout)\n",
    "while True:\n",
    "    event,values=window1.read()\n",
    "    if(event==\"Yes\"):\n",
    "        #for showing loading bar\n",
    "        from tqdm.auto import tqdm \n",
    "        for i in tqdm(range(10000)):\n",
    "                print(\" \",end='\\r')\n",
    "        #layout for another window\n",
    "        layout=[\n",
    "        [sg.Text(\"First Name\"),sg.Input(key=\"-first-\")],\n",
    "        [sg.Text(\"last Name\"),sg.Input(key=\"-last-\")],\n",
    "        [sg.Text(\"Email\"),sg.Input(key=\"-email-\")],\n",
    "        [sg.Text(\"DOB\")],\n",
    "        [sg.CalendarButton('Calendar', target='-CAL-', pad=None, font=('MS Sans Serif', 10, 'bold'),\n",
    "        button_color=('red', 'white'),   key='dob', format=('%d %B, %Y'))],\n",
    "        [sg.Exit()]\n",
    "\n",
    "    while True:             # Event Loop\n",
    "        event, values = window2.read()\n",
    "        print(event, values)\n",
    "        if event in dob:\n",
    "            break\n",
    "        window2.close()    \n",
    "        [sg.Text(\"Address\"),sg.Input(key=\"-add-\")],\n",
    "        [sg.Text(\"mobile No.\"),sg.Input(key=\"-no-\")],\n",
    "        [sg.Text(\"Gender\")],\n",
    "        [sg.Radio('male', \"RADIO1\", key=\"-gender-\")],\n",
    "        [sg.Radio('female', \"RADIO1\",key=\"-gender-\" )],\n",
    "        [sg.Text(\"State\")],\n",
    "        [sg.Listbox(values=('Andhra Pradesh','Arunachal Pradesh','Assam','Bihar','Chhattisgarh','Goa''Gujarat','Haryana',\n",
    "                            'Himachal Pradesh','Jharkhand','Karnataka','Kerala','Madhya Pradesh','Maharashtra' ,'Manipur' ,\n",
    "                            'Meghalaya',\n",
    "                            'Mizoram' ,'Nagaland','Odisha' ,'Punjab','Rajasthan','Sikkim','Tamil Nadu','Telangana',\n",
    "                            'Tripura','Uttar Pradesh','Uttarakhand','West Bengal'),size=(30,6),key=\"-state-\")],\n",
    "        \n",
    "        [sg.Button(\"summit\"),sg.Button(\"exit\")]\n",
    "        \n",
    "        #descibing its title and other feature\n",
    "        window=sg.Window(\"user\",layout)\n",
    "        while True:\n",
    "                #without read() we dont get any output which we want , if we dont use read() it will give address aur error\n",
    "                    event,values=window.read()\n",
    "                    #saviny value on another variable\n",
    "                    first = values['-first-']\n",
    "                    last = values['-last-']\n",
    "                    email=values['-email-']\n",
    "                    dob = values['dob']\n",
    "                    \n",
    "                    add = values['-add-'] \n",
    "                    num = values['-no-'] \n",
    "                    gender=values['-gender-']\n",
    "                    if(gender==True):\n",
    "                        k=\"male\"\n",
    "                    else:\n",
    "                        k=\"female\"\n",
    "                    st=values[('-state-')]\n",
    "                    state=st[0]\n",
    "                    print(dob)\n",
    "                    #in which we have store the value now using database we save it\n",
    "                    ab=(\"insert into gui(first , last, address,dob,number,email,gender,state) values(%s,%s,%s,%s,%s,%s,%s,%s)\")\n",
    "                    ba=(first,last,add,dob,num,email,k,state)\n",
    "                    b.execute(ab,ba)\n",
    "                    a.commit()\n",
    "                    if(event==\"summit\"):\n",
    "                        sg.Text(\"summited\")\n",
    "                        break\n",
    "                    else:\n",
    "                        break\n",
    "        window.close()\n",
    "    else:\n",
    "        break\n",
    "window1.close()#window close is most important otherwise window will not close"
   ]
  },
  {
   "cell_type": "code",
   "execution_count": null,
   "metadata": {},
   "outputs": [],
   "source": [
    "import mysql.connector\n",
    "a=mysql.connector.connect(host=\"localhost\", user=\"root\",password=\"a1234\")\n",
    "b=a.cursor()\n",
    "b.execute(\"use practicle\")\n",
    "b.execute(\"create table gui(first char(20),last char(20),email char(20),dob char(20),address char(20),mobile_number int(20),gender char(20),state char(20)\")\n",
    "b.execute(\"insert into gui(first ,last,email,dob,address,mobile_number,gender,state) values(%s,%s,%s,%s,%s,%s,%s)\")"
   ]
  },
  {
   "cell_type": "code",
   "execution_count": null,
   "metadata": {},
   "outputs": [],
   "source": [
    "\"\""
   ]
  }
 ],
 "metadata": {
  "kernelspec": {
   "display_name": "Python 3",
   "language": "python",
   "name": "python3"
  },
  "language_info": {
   "codemirror_mode": {
    "name": "ipython",
    "version": 3
   },
   "file_extension": ".py",
   "mimetype": "text/x-python",
   "name": "python",
   "nbconvert_exporter": "python",
   "pygments_lexer": "ipython3",
   "version": "3.7.6"
  }
 },
 "nbformat": 4,
 "nbformat_minor": 4
}
