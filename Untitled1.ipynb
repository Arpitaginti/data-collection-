{
 "cells": [
  {
   "cell_type": "code",
   "execution_count": null,
   "metadata": {},
   "outputs": [],
   "source": [
    "#multilevel window\n",
    "import PySimpleGUI as sg\n",
    "layout=[\n",
    "    [sg.Text(\"welcome user\")],\n",
    "    [sg.Button(\"ok\")]\n",
    "]\n",
    "window1=sg.Window(\"user\",layout)\n",
    "while True:\n",
    "    event,values=window1.read()\n",
    "    if(event==\"ok\"):\n",
    "        from tqdm.auto import tqdm \n",
    "        for i in tqdm(range(10000)):\n",
    "                print(\" \",end='\\r')\n",
    "        layout=[\n",
    "        [sg.Text(\"login page\")],\n",
    "        [sg.Button(\"ok\")]\n",
    "        ]\n",
    "        window=sg.Window(\"login\",layout)\n",
    "        while True:\n",
    "            event,values=window.read()\n",
    "            if(event==\"ok\"): \n",
    "                break\n",
    "        window.close()\n",
    "        break\n",
    "window1.close()\n",
    "    window2 = sg.Window('Calendar', layout1)\n",
    "\n",
    "    while True:             # Event Loop\n",
    "        event, values = window2.read()\n",
    "        print(event, values)\n",
    "        if event in (None, 'Exit'):\n",
    "            break\n",
    "    window.close()"
   ]
  },
  {
   "cell_type": "code",
   "execution_count": 6,
   "metadata": {},
   "outputs": [
    {
     "ename": "KeyError",
     "evalue": "'_calendar_'",
     "output_type": "error",
     "traceback": [
      "\u001b[1;31m---------------------------------------------------------------------------\u001b[0m",
      "\u001b[1;31mKeyError\u001b[0m                                  Traceback (most recent call last)",
      "\u001b[1;32m<ipython-input-6-ffa7c725fe40>\u001b[0m in \u001b[0;36m<module>\u001b[1;34m\u001b[0m\n\u001b[0;32m     16\u001b[0m \u001b[0mlast\u001b[0m \u001b[1;33m=\u001b[0m \u001b[0mvalues\u001b[0m\u001b[1;33m[\u001b[0m\u001b[1;34m'-last-'\u001b[0m\u001b[1;33m]\u001b[0m\u001b[1;33m\u001b[0m\u001b[1;33m\u001b[0m\u001b[0m\n\u001b[0;32m     17\u001b[0m \u001b[0madd\u001b[0m \u001b[1;33m=\u001b[0m \u001b[0mvalues\u001b[0m\u001b[1;33m[\u001b[0m\u001b[1;34m'-add-'\u001b[0m\u001b[1;33m]\u001b[0m\u001b[1;33m\u001b[0m\u001b[1;33m\u001b[0m\u001b[0m\n\u001b[1;32m---> 18\u001b[1;33m \u001b[0mdob\u001b[0m \u001b[1;33m=\u001b[0m \u001b[0mvalues\u001b[0m\u001b[1;33m[\u001b[0m\u001b[1;34m'_calendar_'\u001b[0m\u001b[1;33m]\u001b[0m\u001b[1;33m\u001b[0m\u001b[1;33m\u001b[0m\u001b[0m\n\u001b[0m\u001b[0;32m     19\u001b[0m \u001b[0mnum\u001b[0m \u001b[1;33m=\u001b[0m \u001b[0mvalues\u001b[0m\u001b[1;33m[\u001b[0m\u001b[1;34m'-no-'\u001b[0m\u001b[1;33m]\u001b[0m\u001b[1;33m\u001b[0m\u001b[1;33m\u001b[0m\u001b[0m\n",
      "\u001b[1;31mKeyError\u001b[0m: '_calendar_'"
     ]
    }
   ],
   "source": [
    "#form structure\n",
    "import PySimpleGUI as sg\n",
    "\n",
    "layout=[\n",
    "    [sg.Text(\"First Name\"),sg.Input(key=\"-first-\")],\n",
    "    [sg.Text(\"last Name\"),sg.Input(key=\"-last-\")],\n",
    "    [sg.Text(\"Address\"),sg.Input(key=\"-add-\")],\n",
    "    [sg.Text(\"DOB\"),sg.CalendarButton('Calendar',key='_CALENDAR_', format=('%d %B, %Y'))],\n",
    "    [sg.Text(\"mobile No.\"),sg.Input(key=\"-no-\")],\n",
    "    [sg.Button(\"ok\")]\n",
    "]\n",
    "window1=sg.Window(\"user\",layout,margins=(300,300))\n",
    "event,values=window1.read()\n",
    "window1.close()\n",
    "first = values['-first-']\n",
    "last = values['-last-'] \n",
    "add = values['-add-'] \n",
    "dob = values['_calendar_'] \n",
    "num = values['-no-'] "
   ]
  }
 ],
 "metadata": {
  "kernelspec": {
   "display_name": "Python 3",
   "language": "python",
   "name": "python3"
  },
  "language_info": {
   "codemirror_mode": {
    "name": "ipython",
    "version": 3
   },
   "file_extension": ".py",
   "mimetype": "text/x-python",
   "name": "python",
   "nbconvert_exporter": "python",
   "pygments_lexer": "ipython3",
   "version": "3.7.6"
  }
 },
 "nbformat": 4,
 "nbformat_minor": 4
}
